{
 "cells": [
  {
   "cell_type": "markdown",
   "metadata": {},
   "source": [
    "this program handle mysql database throuth connector/Python"
   ]
  },
  {
   "cell_type": "code",
   "execution_count": 2,
   "metadata": {
    "collapsed": false
   },
   "outputs": [],
   "source": [
    "import mysql.connector"
   ]
  },
  {
   "cell_type": "code",
   "execution_count": 3,
   "metadata": {
    "collapsed": false
   },
   "outputs": [],
   "source": [
    "cnx=mysql.connector.connect(user='sh',password='',\n",
    "                           host='localhost',\n",
    "                           database='imgBase')\n",
    "curA = cnx.cursor(buffered=True)\n",
    "curB = cnx.cursor(buffered=True)"
   ]
  },
  {
   "cell_type": "markdown",
   "metadata": {},
   "source": [
    "update ind col "
   ]
  },
  {
   "cell_type": "code",
   "execution_count": 4,
   "metadata": {
    "collapsed": false
   },
   "outputs": [],
   "source": [
    "query_ind = (\"select name from graz_02\")\n",
    "curA.execute(query_ind)\n",
    "\n",
    "update_ind = (\n",
    "    \"UPDATE graz_02 SET ind = %s \"\n",
    "    \"WHERE name = %s\")\n",
    "\n",
    "i=1\n",
    "for (name) in curA:\n",
    "    curB.execute(update_ind, (i, name[0]))\n",
    "    i=i+1\n",
    "    cnx.commit()"
   ]
  },
  {
   "cell_type": "markdown",
   "metadata": {},
   "source": [
    "update cat_ind col"
   ]
  },
  {
   "cell_type": "code",
   "execution_count": 26,
   "metadata": {
    "collapsed": false
   },
   "outputs": [
    {
     "name": "stdout",
     "output_type": "stream",
     "text": [
      "bike\n",
      "select name from graz_02 WHERE category = 'bike'\n",
      "cars\n",
      "select name from graz_02 WHERE category = 'cars'\n",
      "none\n",
      "select name from graz_02 WHERE category = 'none'\n",
      "person\n",
      "select name from graz_02 WHERE category = 'person'\n"
     ]
    }
   ],
   "source": [
    "curB1 = cnx.cursor(buffered=True)\n",
    "\n",
    "update_cat_ind = (\n",
    "    \"UPDATE graz_02 SET cat_ind = %s \"\n",
    "    \"WHERE name = %s\")\n",
    "for cat in ('bike', 'cars', 'none', 'person'):  \n",
    "    print(cat)\n",
    "    curA1 = cnx.cursor(buffered=True)\n",
    "    query_cat_ind = (\n",
    "        \"select name from graz_02 WHERE category = '%s'\"%(cat))\n",
    "    print(query_cat_ind)\n",
    "    curA1.execute(query_cat_ind)\n",
    "    i=1\n",
    "    for name in curA1:\n",
    "        curB1.execute(update_cat_ind, (i, name[0]))\n",
    "        i=i+1\n",
    "        cnx.commit()"
   ]
  },
  {
   "cell_type": "code",
   "execution_count": 5,
   "metadata": {
    "collapsed": true
   },
   "outputs": [],
   "source": [
    "cnx.close()"
   ]
  },
  {
   "cell_type": "code",
   "execution_count": null,
   "metadata": {
    "collapsed": true
   },
   "outputs": [],
   "source": []
  }
 ],
 "metadata": {
  "kernelspec": {
   "display_name": "Python 2",
   "language": "python",
   "name": "python2"
  },
  "language_info": {
   "codemirror_mode": {
    "name": "ipython",
    "version": 2
   },
   "file_extension": ".py",
   "mimetype": "text/x-python",
   "name": "python",
   "nbconvert_exporter": "python",
   "pygments_lexer": "ipython2",
   "version": "2.7.6"
  }
 },
 "nbformat": 4,
 "nbformat_minor": 0
}
