{
 "cells": [
  {
   "cell_type": "code",
   "execution_count": 1,
   "metadata": {
    "collapsed": true
   },
   "outputs": [],
   "source": [
    "import numpy\n",
    "from pyspark.sql import SQLContext\n",
    "from pyspark.sql import HiveContext\n",
    "import mysql.connector\n",
    "from mysql.connector import errorcode"
   ]
  },
  {
   "cell_type": "markdown",
   "metadata": {},
   "source": [
    "init parameter"
   ]
  },
  {
   "cell_type": "markdown",
   "metadata": {},
   "source": [
    "##load image databases, and information\n"
   ]
  },
  {
   "cell_type": "code",
   "execution_count": 2,
   "metadata": {
    "collapsed": false
   },
   "outputs": [
    {
     "data": {
      "text/plain": [
       "DataFrame[]"
      ]
     },
     "execution_count": 2,
     "metadata": {},
     "output_type": "execute_result"
    }
   ],
   "source": [
    "sqlContext=SQLContext(sc)\n",
    "hiveContext=HiveContext(sc)\n",
    "\n",
    "hiveContext.sql('use aibgraz')"
   ]
  },
  {
   "cell_type": "code",
   "execution_count": 4,
   "metadata": {
    "collapsed": false
   },
   "outputs": [],
   "source": [
    "df_graz02 = sqlContext.read.format('jdbc').options(\n",
    "    url='jdbc:mysql://127.0.0.1:3306',\n",
    "    dbtable='imgBase.graz_02',\n",
    "    driver='com.mysql.jdbc.Driver',\n",
    "    user='sh').load()\n",
    "\n",
    "df_graz02_info = sqlContext.read.format('jdbc').options(\n",
    "    url='jdbc:mysql://127.0.0.1:3306',\n",
    "    dbtable='imgBase.graz_02_info',\n",
    "    driver='com.mysql.jdbc.Driver',\n",
    "    user='sh').load()\n",
    "#type(df_graz02)\n",
    "#print(df_graz02.count())\n",
    "\n",
    "rdd_graz02 = df_graz02.rdd\n",
    "hdf_graz02=hiveContext.createDataFrame(rdd_graz02)\n",
    "#hdf_graz02.write()\n",
    "\n",
    "#df_graz02.write.format(\"jdbc\").options(url='jdbc:hive2://localhost:10000',\n",
    "#                                       dbtable='aibgraz.graz_02',\n",
    "#                                       user='sh').save()\n",
    "            "
   ]
  },
  {
   "cell_type": "code",
   "execution_count": 4,
   "metadata": {
    "collapsed": false
   },
   "outputs": [],
   "source": [
    "hiveContext.sql('use aibgraz')\n",
    "\n",
    "hiveContext.sql('drop table  IF EXISTS graz02')\n",
    "hdf_graz02.write.saveAsTable(name='graz02')"
   ]
  },
  {
   "cell_type": "code",
   "execution_count": 6,
   "metadata": {
    "collapsed": false
   },
   "outputs": [
    {
     "name": "stdout",
     "output_type": "stream",
     "text": [
      "+--------+---+------------+----+---------------+----------+\n",
      "|category|num|isbackground| ext|groundtruth_ext|img_prefix|\n",
      "+--------+---+------------+----+---------------+----------+\n",
      "|    bike|365|       false|.bmp|           .jpg|     bike_|\n",
      "|    cars|420|       false|.bmp|           .jpg|     cars_|\n",
      "|    none|380|        true|.bmp|           .jpg|  bk_graz_|\n",
      "|  person|311|       false|.bmp|           .jpg|   person_|\n",
      "+--------+---+------------+----+---------------+----------+\n",
      "\n"
     ]
    }
   ],
   "source": [
    "df_graz02_info.show()\n",
    "hdf_graz02_info=hiveContext.createDataFrame(df_graz02_info.rdd)\n",
    "hdf_graz02_info.write.saveAsTable(name='graz02_cate_info')\n",
    "\n",
    "hiveContext.sql('select * from graz02_cate_info').show()\n",
    "hiveContext.sql('show table extended like graz02_cate_info').show()"
   ]
  },
  {
   "cell_type": "code",
   "execution_count": 9,
   "metadata": {
    "collapsed": false
   },
   "outputs": [
    {
     "name": "stdout",
     "output_type": "stream",
     "text": [
      "+--------+---+------------+----+---------------+----------+\n",
      "|category|num|isbackground| ext|groundtruth_ext|img_prefix|\n",
      "+--------+---+------------+----+---------------+----------+\n",
      "|    bike|365|       false|.bmp|           .jpg|     bike_|\n",
      "|    cars|420|       false|.bmp|           .jpg|     cars_|\n",
      "|    none|380|        true|.bmp|           .jpg|  bk_graz_|\n",
      "|  person|311|       false|.bmp|           .jpg|   person_|\n",
      "+--------+---+------------+----+---------------+----------+\n",
      "\n",
      "+--------------------+\n",
      "|              result|\n",
      "+--------------------+\n",
      "|tableName:graz02_...|\n",
      "|            owner:sh|\n",
      "|location:hdfs://l...|\n",
      "|inputformat:org.a...|\n",
      "|outputformat:org....|\n",
      "|columns:struct co...|\n",
      "|   partitioned:false|\n",
      "|   partitionColumns:|\n",
      "|  totalNumberFiles:4|\n",
      "|  totalFileSize:3475|\n",
      "|    maxFileSize:1492|\n",
      "|       minFileSize:0|\n",
      "|lastAccessTime:14...|\n",
      "|lastUpdateTime:14...|\n",
      "|                    |\n",
      "+--------------------+\n",
      "\n"
     ]
    }
   ],
   "source": []
  },
  {
   "cell_type": "code",
   "execution_count": 3,
   "metadata": {
    "collapsed": false
   },
   "outputs": [
    {
     "name": "stdout",
     "output_type": "stream",
     "text": [
      "+--------------------+\n",
      "|              result|\n",
      "+--------------------+\n",
      "|    tableName:graz02|\n",
      "|            owner:sh|\n",
      "|location:hdfs://l...|\n",
      "|inputformat:org.a...|\n",
      "|outputformat:org....|\n",
      "|columns:struct co...|\n",
      "|   partitioned:false|\n",
      "|   partitionColumns:|\n",
      "|  totalNumberFiles:4|\n",
      "| totalFileSize:19326|\n",
      "|   maxFileSize:17193|\n",
      "|       minFileSize:0|\n",
      "|lastAccessTime:14...|\n",
      "|lastUpdateTime:14...|\n",
      "|                    |\n",
      "+--------------------+\n",
      "\n",
      "+--------+\n",
      "|count(1)|\n",
      "+--------+\n",
      "|    1476|\n",
      "+--------+\n",
      "\n"
     ]
    }
   ],
   "source": [
    "hiveContext.sql('show table extended like graz02').show()\n",
    "hiveContext.sql('select count(*) from graz02').show()"
   ]
  },
  {
   "cell_type": "markdown",
   "metadata": {},
   "source": [
    "bag of feature image categorization"
   ]
  },
  {
   "cell_type": "markdown",
   "metadata": {},
   "source": [
    "select category/training/testing"
   ]
  },
  {
   "cell_type": "code",
   "execution_count": 4,
   "metadata": {
    "collapsed": false
   },
   "outputs": [
    {
     "data": {
      "text/plain": [
       "Row(ind=1166, cat_ind=1, name=u'person_001', category=u'person', path=u'/home/sh/Data/TestData/Graz-02/data/person/person_001.bmp', groundtruth_path=u'/home/sh/Data/TestData/Graz-02/groundtruth/person/person_001_gt.jpg')"
      ]
     },
     "execution_count": 4,
     "metadata": {},
     "output_type": "execute_result"
    }
   ],
   "source": [
    "def sel(r):\n",
    "    if (r.category=='person') and (r.cat_ind<=10):\n",
    "        return True\n",
    "    else:\n",
    "        return False\n",
    "    \n",
    "rdd_graz02_select = rdd_graz02.filter(sel);\n",
    "rdd_graz02_select.first()"
   ]
  },
  {
   "cell_type": "markdown",
   "metadata": {},
   "source": [
    "\n",
    "##feature extraction\n"
   ]
  },
  {
   "cell_type": "code",
   "execution_count": 9,
   "metadata": {
    "collapsed": false,
    "scrolled": true
   },
   "outputs": [
    {
     "name": "stdout",
     "output_type": "stream",
     "text": [
      "10\n",
      "<type 'numpy.ndarray'>\n"
     ]
    }
   ],
   "source": [
    "# load image from Row.path,\n",
    "# extract feature of that image\n",
    "# and save into file, whose path is Row.\n",
    "\n",
    "import cv2\n",
    "from scipy.misc import imread\n",
    "\n",
    "\n",
    "def block_feat(Row):\n",
    "    img = imread(Row.path)\n",
    "    featureDetector=cv2.xfeatures2d.SIFT_create()\n",
    "    descExtractor = featureDetector\n",
    "    \n",
    "    kp = featureDetector.detect(img, None)\n",
    "    _kp,des = descExtractor.compute(img, kp)\n",
    "    return des\n",
    "\n",
    "\n",
    "rdd_feat = rdd_graz02_select.map(block_feat)\n",
    "print(rdd_feat.count())\n",
    "print(type(rdd_feat.first()))\n",
    "#print(rdd_feat.first())"
   ]
  },
  {
   "cell_type": "code",
   "execution_count": 10,
   "metadata": {
    "collapsed": false
   },
   "outputs": [
    {
     "name": "stdout",
     "output_type": "stream",
     "text": [
      "(488, 128)\n"
     ]
    }
   ],
   "source": [
    "print(rdd_feat.first().shape)"
   ]
  },
  {
   "cell_type": "markdown",
   "metadata": {},
   "source": [
    "##train dictionary\n",
    "kmeans"
   ]
  },
  {
   "cell_type": "code",
   "execution_count": null,
   "metadata": {
    "collapsed": true
   },
   "outputs": [],
   "source": [
    "def block_dictionary():\n",
    "    \n",
    "dic_ = rdd_feat.reduce(block_dictionary)"
   ]
  },
  {
   "cell_type": "code",
   "execution_count": null,
   "metadata": {
    "collapsed": true
   },
   "outputs": [],
   "source": []
  },
  {
   "cell_type": "code",
   "execution_count": null,
   "metadata": {
    "collapsed": true
   },
   "outputs": [],
   "source": []
  }
 ],
 "metadata": {
  "kernelspec": {
   "display_name": "Python 2",
   "language": "python",
   "name": "python2"
  },
  "language_info": {
   "codemirror_mode": {
    "name": "ipython",
    "version": 2
   },
   "file_extension": ".py",
   "mimetype": "text/x-python",
   "name": "python",
   "nbconvert_exporter": "python",
   "pygments_lexer": "ipython2",
   "version": "2.7.6"
  }
 },
 "nbformat": 4,
 "nbformat_minor": 0
}
