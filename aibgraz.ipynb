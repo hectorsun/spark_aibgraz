{
 "cells": [
  {
   "cell_type": "code",
   "execution_count": 1,
   "metadata": {
    "collapsed": true
   },
   "outputs": [],
   "source": [
    "import numpy\n",
    "from pyspark.sql import SQLContext\n",
    "import mysql.connector\n",
    "from mysql.connector import errorcode"
   ]
  },
  {
   "cell_type": "markdown",
   "metadata": {},
   "source": [
    "init parameter"
   ]
  },
  {
   "cell_type": "code",
   "execution_count": 2,
   "metadata": {
    "collapsed": false
   },
   "outputs": [],
   "source": [
    "param={}\n",
    "\n",
    "\n",
    "#crate table\n",
    "TABLES={}\n",
    "TABLES['info']=(\n",
    "    \"CREATE TABLE IF NOT EXISTS info(\"\n",
    "    \"`id` INTEGER,\"\n",
    "    \"`name` varchar(10),\"\n",
    "    \"`path` varchar(256),\"\n",
    "    \" PRIMARY KEY (`id`)\"\n",
    "    \")\")\n",
    "DB_NAME='aibgraz'\n",
    "cnx=mysql.connector.connect(user='sh',host='localhost')\n",
    "cursor=cnx.cursor()\n",
    "\n",
    "\n",
    "try:\n",
    "    cnx.database = DB_NAME\n",
    "except mysql.connector.Error as err:\n",
    "    print(err)\n",
    "    exit(1)\n",
    "    \n",
    "\n",
    "for name, dll in TABLES.iteritems():\n",
    "    cursor.execute(dll)\n",
    "\n",
    "cursor.close()\n",
    "cnx.close()"
   ]
  },
  {
   "cell_type": "markdown",
   "metadata": {},
   "source": [
    "########################################\n",
    "#load image databases, and information\n",
    "########################################"
   ]
  },
  {
   "cell_type": "code",
   "execution_count": 3,
   "metadata": {
    "collapsed": false
   },
   "outputs": [],
   "source": [
    "sqlContext=SQLContext(sc)\n",
    "df_graz02 = sqlContext.read.format('jdbc').options(\n",
    "    url='jdbc:mysql://127.0.0.1:3306',\n",
    "    dbtable='imgBase.graz_02',\n",
    "    driver='com.mysql.jdbc.Driver',\n",
    "    user='sh').load()\n",
    "\n",
    "df_graz02_info = sqlContext.read.format('jdbc').options(\n",
    "    url='jdbc:mysql://127.0.0.1:3306',\n",
    "    dbtable='imgBase.graz_02_info',\n",
    "    driver='com.mysql.jdbc.Driver',\n",
    "    user='sh').load()\n",
    "#type(df_graz02)\n",
    "#print(df_graz02.count())\n",
    "\n",
    "rdd_graz02 = df_graz02.rdd"
   ]
  },
  {
   "cell_type": "markdown",
   "metadata": {},
   "source": [
    "bag of feature image categorization"
   ]
  },
  {
   "cell_type": "markdown",
   "metadata": {},
   "source": [
    "select category/training/testing"
   ]
  },
  {
   "cell_type": "code",
   "execution_count": 4,
   "metadata": {
    "collapsed": false
   },
   "outputs": [
    {
     "data": {
      "text/plain": [
       "Row(ind=1166, cat_ind=1, name=u'person_001', category=u'person', path=u'/home/sh/Data/TestData/Graz-02/data/person/person_001.bmp', groundtruth_path=u'/home/sh/Data/TestData/Graz-02/groundtruth/person/person_001_gt.jpg')"
      ]
     },
     "execution_count": 4,
     "metadata": {},
     "output_type": "execute_result"
    }
   ],
   "source": [
    "def sel(r):\n",
    "    if (r.category=='person') and (r.cat_ind<=10):\n",
    "        return True\n",
    "    else:\n",
    "        return False\n",
    "    \n",
    "rdd_graz02_select = rdd_graz02.filter(sel);\n",
    "rdd_graz02_select.first()"
   ]
  },
  {
   "cell_type": "markdown",
   "metadata": {},
   "source": [
    "###############################\n",
    "#feature extraction\n",
    "##############################"
   ]
  },
  {
   "cell_type": "code",
   "execution_count": 5,
   "metadata": {
    "collapsed": false
   },
   "outputs": [
    {
     "name": "stdout",
     "output_type": "stream",
     "text": [
      "10\n"
     ]
    }
   ],
   "source": [
    "# load image from Row.path,\n",
    "# extract feature of that image\n",
    "# and save into file, whose path is Row.\n",
    "\n",
    "import cv2\n",
    "from scipy.misc import imread\n",
    "\n",
    "\n",
    "def block_feat(Row):\n",
    "    img = imread(Row.path)\n",
    "    featureDetector=cv2.xfeatures2d.SIFT_create()\n",
    "    descExtractor = featureDetector\n",
    "    \n",
    "    kp, des = featureDetector.detectAndCompute(img, None)\n",
    "    #print(dir(kp))\n",
    "    #img2=cv2.drawKeypoints(img, kp)\n",
    "    #cv2.imwrite('sift_keypoint.jpg', img2)\n",
    "    return des\n",
    "\n",
    "\n",
    "rdd_feat = rdd_graz02_select.map(block_feat)\n",
    "print(rdd_feat.count())\n",
    "#print(rdd_feat)\n",
    "#print(rdd_feat.first())"
   ]
  },
  {
   "cell_type": "markdown",
   "metadata": {},
   "source": [
    "train dictionary\n",
    "kmeans"
   ]
  },
  {
   "cell_type": "code",
   "execution_count": null,
   "metadata": {
    "collapsed": true
   },
   "outputs": [],
   "source": []
  },
  {
   "cell_type": "code",
   "execution_count": null,
   "metadata": {
    "collapsed": true
   },
   "outputs": [],
   "source": []
  },
  {
   "cell_type": "code",
   "execution_count": null,
   "metadata": {
    "collapsed": true
   },
   "outputs": [],
   "source": []
  }
 ],
 "metadata": {
  "kernelspec": {
   "display_name": "Python 2",
   "language": "python",
   "name": "python2"
  },
  "language_info": {
   "codemirror_mode": {
    "name": "ipython",
    "version": 2
   },
   "file_extension": ".py",
   "mimetype": "text/x-python",
   "name": "python",
   "nbconvert_exporter": "python",
   "pygments_lexer": "ipython2",
   "version": "2.7.6"
  }
 },
 "nbformat": 4,
 "nbformat_minor": 0
}
