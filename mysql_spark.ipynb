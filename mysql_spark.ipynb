{
 "cells": [
  {
   "cell_type": "code",
   "execution_count": 1,
   "metadata": {
    "collapsed": true
   },
   "outputs": [],
   "source": [
    "from pyspark.sql import SQLContext\n",
    "sqlContext=SQLContext(sc)"
   ]
  },
  {
   "cell_type": "code",
   "execution_count": 2,
   "metadata": {
    "collapsed": false
   },
   "outputs": [
    {
     "name": "stdout",
     "output_type": "stream",
     "text": [
      "4\n"
     ]
    }
   ],
   "source": [
    "df = sqlContext.read.format('jdbc').options(\n",
    "    url='jdbc:mysql://127.0.0.1:3306',\n",
    "    dbtable='imgBase.graz_02_info',\n",
    "    driver='com.mysql.jdbc.Driver',\n",
    "    user='sh').load()\n",
    "print(df.count())"
   ]
  },
  {
   "cell_type": "code",
   "execution_count": 3,
   "metadata": {
    "collapsed": false
   },
   "outputs": [
    {
     "name": "stdout",
     "output_type": "stream",
     "text": [
      "1476\n"
     ]
    }
   ],
   "source": [
    "df2 = sqlContext.read.format('jdbc').options(\n",
    "    url='jdbc:mysql://127.0.0.1:3306',\n",
    "    dbtable='imgBase.graz_02',\n",
    "    driver='com.mysql.jdbc.Driver',\n",
    "    user='sh').load()\n",
    "print(df2.count())"
   ]
  },
  {
   "cell_type": "code",
   "execution_count": 17,
   "metadata": {
    "collapsed": false
   },
   "outputs": [
    {
     "name": "stdout",
     "output_type": "stream",
     "text": [
      "311\n",
      "311\n"
     ]
    }
   ],
   "source": [
    "import cv2\n",
    "from scipy.misc import imread\n",
    "def printSize(row):\n",
    "    img = imread(row.path)\n",
    "    print img.shape\n",
    "    return img.shape\n",
    "    \n",
    "\n",
    "df_person = df2.filter(\"category=='person'\")\n",
    "#type(df_person)\n",
    "\n",
    "print(df_person.count())\n",
    "rdd_person=df_person.rdd\n",
    "rdd_person_size = rdd_person.map(printSize)\n",
    "print(rdd_person_size.count())\n",
    "#type(df_person_size)"
   ]
  },
  {
   "cell_type": "code",
   "execution_count": 5,
   "metadata": {
    "collapsed": true
   },
   "outputs": [],
   "source": [
    "def printPath(row):\n",
    "    print row.path\n",
    "    \n",
    "df2.foreach(printPath)"
   ]
  },
  {
   "cell_type": "code",
   "execution_count": null,
   "metadata": {
    "collapsed": true
   },
   "outputs": [],
   "source": []
  }
 ],
 "metadata": {
  "kernelspec": {
   "display_name": "Python 2",
   "language": "python",
   "name": "python2"
  },
  "language_info": {
   "codemirror_mode": {
    "name": "ipython",
    "version": 2
   },
   "file_extension": ".py",
   "mimetype": "text/x-python",
   "name": "python",
   "nbconvert_exporter": "python",
   "pygments_lexer": "ipython2",
   "version": "2.7.6"
  }
 },
 "nbformat": 4,
 "nbformat_minor": 0
}
