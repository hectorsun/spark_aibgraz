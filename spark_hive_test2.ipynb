{
 "cells": [
  {
   "cell_type": "code",
   "execution_count": 1,
   "metadata": {
    "collapsed": false
   },
   "outputs": [
    {
     "name": "stdout",
     "output_type": "stream",
     "text": [
      "++\n",
      "||\n",
      "++\n",
      "++\n",
      "\n",
      "+---------+-----------+\n",
      "|tableName|isTemporary|\n",
      "+---------+-----------+\n",
      "|   graz02|      false|\n",
      "|     pets|      false|\n",
      "|      src|      false|\n",
      "+---------+-----------+\n",
      "\n"
     ]
    }
   ],
   "source": [
    "sqlContext.sql(\"use default\").show()\n",
    "sqlContext.sql(\"show tables\").show()"
   ]
  },
  {
   "cell_type": "code",
   "execution_count": 2,
   "metadata": {
    "collapsed": false
   },
   "outputs": [
    {
     "name": "stdout",
     "output_type": "stream",
     "text": [
      "+--------------------+\n",
      "|              result|\n",
      "+--------------------+\n",
      "|       tableName:src|\n",
      "|            owner:sh|\n",
      "|location:hdfs://l...|\n",
      "|inputformat:org.a...|\n",
      "|outputformat:org....|\n",
      "|columns:struct co...|\n",
      "|   partitioned:false|\n",
      "|   partitionColumns:|\n",
      "|  totalNumberFiles:0|\n",
      "|     totalFileSize:0|\n",
      "|       maxFileSize:0|\n",
      "|       minFileSize:0|\n",
      "|    lastAccessTime:0|\n",
      "|lastUpdateTime:14...|\n",
      "|                    |\n",
      "+--------------------+\n",
      "\n"
     ]
    }
   ],
   "source": [
    "sqlContext.sql(\"show table extended like src\").show()"
   ]
  },
  {
   "cell_type": "code",
   "execution_count": 3,
   "metadata": {
    "collapsed": false
   },
   "outputs": [
    {
     "name": "stdout",
     "output_type": "stream",
     "text": [
      "++\n",
      "||\n",
      "++\n",
      "++\n",
      "\n"
     ]
    }
   ],
   "source": [
    "sqlContext.sql(\"drop table src\").show()"
   ]
  },
  {
   "cell_type": "code",
   "execution_count": 5,
   "metadata": {
    "collapsed": false
   },
   "outputs": [
    {
     "name": "stdout",
     "output_type": "stream",
     "text": [
      "+---------+-----------+\n",
      "|tableName|isTemporary|\n",
      "+---------+-----------+\n",
      "|   graz02|      false|\n",
      "|     pets|      false|\n",
      "|     src2|      false|\n",
      "+---------+-----------+\n",
      "\n",
      "+--------------------+\n",
      "|              result|\n",
      "+--------------------+\n",
      "|      tableName:src2|\n",
      "|            owner:sh|\n",
      "|location:hdfs://l...|\n",
      "|inputformat:org.a...|\n",
      "|outputformat:org....|\n",
      "|columns:struct co...|\n",
      "|   partitioned:false|\n",
      "|   partitionColumns:|\n",
      "|  totalNumberFiles:0|\n",
      "|     totalFileSize:0|\n",
      "|       maxFileSize:0|\n",
      "|       minFileSize:0|\n",
      "|    lastAccessTime:0|\n",
      "|lastUpdateTime:14...|\n",
      "|                    |\n",
      "+--------------------+\n",
      "\n"
     ]
    }
   ],
   "source": [
    "sqlContext.sql('create table IF NOT EXISTS src2 (name string, age int)')\n",
    "sqlContext.sql('show tables').show()\n",
    "sqlContext.sql('show table extended like src2').show()"
   ]
  },
  {
   "cell_type": "code",
   "execution_count": null,
   "metadata": {
    "collapsed": true
   },
   "outputs": [],
   "source": []
  }
 ],
 "metadata": {
  "kernelspec": {
   "display_name": "Python 2",
   "language": "python",
   "name": "python2"
  },
  "language_info": {
   "codemirror_mode": {
    "name": "ipython",
    "version": 2
   },
   "file_extension": ".py",
   "mimetype": "text/x-python",
   "name": "python",
   "nbconvert_exporter": "python",
   "pygments_lexer": "ipython2",
   "version": "2.7.6"
  }
 },
 "nbformat": 4,
 "nbformat_minor": 0
}
